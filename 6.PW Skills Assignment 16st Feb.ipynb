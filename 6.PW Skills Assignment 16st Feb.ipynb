{
 "cells": [
  {
   "cell_type": "raw",
   "id": "5284a060",
   "metadata": {},
   "source": [
    "1.What is a database? Differentiate between SQL and NoSQL databases."
   ]
  },
  {
   "cell_type": "raw",
   "id": "34f703a3",
   "metadata": {},
   "source": [
    "Answer :\n",
    "\n",
    "A database is an organized collection of structured information, or data, typically stored electronically in a computer system. A database is usually controlled by a database management system (DBMS).\n",
    "\n",
    "SQL databases are vertically scalable, while NoSQL databases are horizontally scalable. SQL databases are table-based, while NoSQL databases are document, key-value, graph, or wide-column stores. SQL databases are better for multi-row transactions, while NoSQL is better for unstructured data like documents or JSON.\n",
    "\n",
    "MySQL is a relational database that is based on a tabular design. NoSQL is non-relational and has a document-based design. A MySQL database is currently more popular in the market than NoSQL because the latter is still fairly new."
   ]
  },
  {
   "cell_type": "raw",
   "id": "d179218a",
   "metadata": {},
   "source": [
    "2.What is DDL? Explain why CREATE, DROP, ALTER, and TRUNCATE are used with an example.\n"
   ]
  },
  {
   "cell_type": "raw",
   "id": "f07651f8",
   "metadata": {},
   "source": [
    "Answer :\n",
    "\n",
    "Data Definition Language\n",
    "Data Definition Language (DDL) is a subset of SQL. It is a language for describing data and its relationships in a database. You can generate DDL in a script for database objects to: Keep a snapshot of the database structure.\n",
    "\n",
    "The DELETE command deletes one or more existing records from the table in the database. The DROP Command drops the complete table from the database. The TRUNCATE Command deletes all the rows from the existing table, leaving the row with the column names"
   ]
  },
  {
   "cell_type": "raw",
   "id": "e50c1e5f",
   "metadata": {},
   "source": [
    "3.What is DML? Explain INSERT, UPDATE, and DELETE with an example.\n"
   ]
  },
  {
   "cell_type": "raw",
   "id": "504d8c2c",
   "metadata": {},
   "source": [
    "Answer :\n",
    "\n",
    "DML is an abbreviation for Data Manipulation Language. Represents a collection of programming languages explicitly used to make changes to the database, such as: CRUD operations to create, read, update and delete data. Using INSERT, SELECT, UPDATE, and DELETE commands.\n",
    "\n",
    "The SQL INSERT, UPDATE, and DELETE commands enable SQL users to manipulate and modify data:\n",
    "The INSERT statement introduces new rows into an existing table.\n",
    "The DELETE statement removes a row or combination of rows from a table.\n",
    "The UPDATE statement enables users to update a row or group of rows in a table."
   ]
  },
  {
   "cell_type": "raw",
   "id": "2241b623",
   "metadata": {},
   "source": [
    "4.What is DQL? Explain SELECT with an example."
   ]
  },
  {
   "cell_type": "raw",
   "id": "3a6534d1",
   "metadata": {},
   "source": [
    "Answer :\n",
    "\n",
    "DQL is basically used to retrieve data. It consists of commands that do so. A user can feasibly retrieve the data in accordance with their requirements using a single command: select. Meaning, the Data Query Language used for information retrieval is the SELECT statement (retrieval from the database).\n",
    "\n",
    "A SELECT statement retrieves zero or more rows from one or more database tables or database views. In most applications, SELECT is the most commonly used data manipulation language (DML) command. As SQL is a declarative programming language, SELECT queries specify a result set, but do not specify how to calculate it."
   ]
  },
  {
   "cell_type": "raw",
   "id": "f363ac10",
   "metadata": {},
   "source": [
    "5.Explain Primary Key and Foreign Key."
   ]
  },
  {
   "cell_type": "raw",
   "id": "a828f97c",
   "metadata": {},
   "source": [
    "Answer :\n",
    "\n",
    "A primary key uniquely identifies a row in a table, while a foreign key is used to link two tables together by referencing the primary key of the related table. The most important difference that you should note here is that a primary key cannot have a NULL value, whereas a foreign key can accept NULL values."
   ]
  },
  {
   "cell_type": "raw",
   "id": "fd08699e",
   "metadata": {},
   "source": [
    "6.Write a python code to connect MySQL to python. Explain the cursor() and execute() method."
   ]
  },
  {
   "cell_type": "raw",
   "id": "45fb7d93",
   "metadata": {},
   "source": [
    "Answer :\n",
    "\n",
    "import mysql.connector.\n",
    "\n",
    "myconn = mysql.connector.connect(host = \"localhost\", user = \"root\",passwd = \"google\", database = \"mydb\")\n",
    "\n",
    "print (myconn)\n",
    "\n",
    "mycursor = myconn.cursor()\n",
    "mycursor.execute(\"Show database\")\n",
    "\n",
    "for x in mycursor:\n",
    "print(x)\n",
    "\n",
    "cursor() must return an instance of <module>. Cursor , and <module>. Cursor. execute() should invoke the statement provided and return the resulting rows."
   ]
  },
  {
   "cell_type": "raw",
   "id": "c747edf7",
   "metadata": {},
   "source": [
    "7.Give the order of execution of SQL clauses in an SQL query."
   ]
  },
  {
   "cell_type": "raw",
   "id": "dcc32317",
   "metadata": {},
   "source": [
    "Answer :\n",
    "\n",
    "Order\tClause\tFunction\n",
    "1\t   FROM\t    Tables are joined to get the base data.\n",
    "2\t   WHERE    The base data is filtered.\n",
    "3\t  GROUP BY\tThe filtered base data is grouped.\n",
    "4\t  HAVING    The grouped base data is filtered.\n",
    "5\t SELECT\t    The final data is returned.\n",
    "6\t ORDER BY\tThe final data is sorted.\n",
    "7\t LIMIT\t    The returned data is limited to row count.\n",
    "\n",
    "\n",
    "1. FROM/JOIN: The FROM and/or JOIN clauses are executed first to determine the data of interest.\n",
    "\n",
    "2. WHERE: The WHERE clause is executed to filter out records that do not meet the constraints.\n",
    "\n",
    "3. GROUP BY: The GROUP BY clause is executed to group the data based on the values in one or more columns.\n",
    "\n",
    "4. HAVING: The HAVING clause is executed to remove the created grouped records that don’t meet the constraints.\n",
    "\n",
    "5. SELECT: The SELECT clause is executed to derive all desired columns and expressions.\n",
    "\n",
    "6. ORDER BY: The ORDER BY clause is executed to sort the derived values in ascending or descending order.\n",
    "\n",
    "7. LIMIT/OFFSET: Finally, the LIMIT and/or OFFSET clauses are executed to keep or skip a specified number of rows."
   ]
  },
  {
   "cell_type": "raw",
   "id": "24ef91fd",
   "metadata": {},
   "source": []
  },
  {
   "cell_type": "code",
   "execution_count": null,
   "id": "8f90ce4e",
   "metadata": {},
   "outputs": [],
   "source": []
  }
 ],
 "metadata": {
  "kernelspec": {
   "display_name": "Python 3 (ipykernel)",
   "language": "python",
   "name": "python3"
  },
  "language_info": {
   "codemirror_mode": {
    "name": "ipython",
    "version": 3
   },
   "file_extension": ".py",
   "mimetype": "text/x-python",
   "name": "python",
   "nbconvert_exporter": "python",
   "pygments_lexer": "ipython3",
   "version": "3.9.13"
  }
 },
 "nbformat": 4,
 "nbformat_minor": 5
}
