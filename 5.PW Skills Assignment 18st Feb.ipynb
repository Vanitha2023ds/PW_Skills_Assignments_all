{
 "cells": [
  {
   "cell_type": "raw",
   "id": "373706e2",
   "metadata": {},
   "source": [
    "1.What is an API? Give an example, where an API is used in real life?"
   ]
  },
  {
   "cell_type": "raw",
   "id": "344c4a5d",
   "metadata": {},
   "source": [
    "Answer :\n",
    "\n",
    "APIs are mechanisms that enable two software components to communicate with each other using a set of definitions and protocols. For example, the weather bureau's software system contains daily weather data. The weather app on your phone “talks” to this system via APIs and shows you daily weather updates on your phone.\n",
    "\n",
    "APIs are used in web applications to connect user-facing front ends with critical back-end functionality and data. APIs are used to deliver material by streaming services such as Spotify and Netflix. APIs are used by automakers such as Tesla to provide software upgrades."
   ]
  },
  {
   "cell_type": "raw",
   "id": "bac8deb2",
   "metadata": {},
   "source": [
    "2.Give advantages and disadvantages of using API.\n"
   ]
  },
  {
   "cell_type": "raw",
   "id": "ea52897c",
   "metadata": {},
   "source": [
    "Answer :\n",
    "advantages:\n",
    "APIs empower developers to be more productive by reusing code in complex but repetitive processes. They don't need to start from scratch as the API specifies how to assemble software components in a program. APIs exist to make it easy to interface with other developers' applications.\n",
    "\n",
    "disadvantages:\n",
    "However, there are some potential disadvantages to using an API web-server interface that should be considered before making the decision to use one. These include the potential for security risks, the need for specialized knowledge, and the potential for compatibility issues."
   ]
  },
  {
   "cell_type": "raw",
   "id": "a0784bc9",
   "metadata": {},
   "source": [
    "3.What is a Web API? Differentiate between API and Web API.\n"
   ]
  },
  {
   "cell_type": "raw",
   "id": "350c46ff",
   "metadata": {},
   "source": [
    "Answer : \n",
    "\n",
    "What are APIs? Application Programming Interfaces (APIs) are constructs made available in programming languages to allow developers to create complex functionality more easily. They abstract more complex code away from you, providing some easier syntax to use in its place\n",
    "\n",
    "Differentiate between API and Web API :\n",
    "Web service is used for REST, SOAP, and XML-RPC for communication, while API is used for any style of communication. Web service supports only HTTP protocol, whereas API supports HTTP/HTTPS protocol. Web service supports XML, while API supports XML and JSON. All Web services are APIs, but all APIs are not web services."
   ]
  },
  {
   "cell_type": "raw",
   "id": "6a7de85c",
   "metadata": {},
   "source": [
    "4.Explain REST and SOAP Architecture. Mention shortcomings of SOAP."
   ]
  },
  {
   "cell_type": "raw",
   "id": "6b730b63",
   "metadata": {},
   "source": [
    "Answer :\n",
    "\n",
    "SOAP is a protocol whereas REST is an architectural pattern. SOAP uses service interfaces to expose its functionality to client applications while REST uses Uniform Service locators to access to the components on the hardware device. SOAP needs more bandwidth for its usage whereas REST doesn't need much bandwidth.\n",
    "\n",
    "As SOAP can only transfer messages as XML files, your SOAP API will be less performant, as XML is a verbose format compared to JSON. API calls made to your server will need more bandwidth and it will take more time to process the request and transfer the response back to the client."
   ]
  },
  {
   "cell_type": "raw",
   "id": "b072cb32",
   "metadata": {},
   "source": [
    "5.Differentiate between REST and SOAP."
   ]
  },
  {
   "cell_type": "raw",
   "id": "e8cb79a0",
   "metadata": {},
   "source": [
    "Answer :\n",
    "\n",
    "REST is a set of guidelines that offers flexible implementation, whereas SOAP is a protocol with specific requirements like XML messaging. REST APIs are lightweight, making them ideal for newer contexts like the Internet of Things (IoT), mobile application development, and serverless computing.\n",
    "An API is designed to expose certain aspects of an application's business logic on a server, and SOAP uses a service interface to do this while REST uses URIs. While SOAP APIs are designed after the functions that the API exposes, REST APIs are designed after the data.\n",
    "REST uses URI to expose business logic. SOAP defines standards to be strictly followed. REST does not define too much standards like SOAP."
   ]
  },
  {
   "cell_type": "code",
   "execution_count": null,
   "id": "07a9973d",
   "metadata": {},
   "outputs": [],
   "source": []
  }
 ],
 "metadata": {
  "kernelspec": {
   "display_name": "Python 3 (ipykernel)",
   "language": "python",
   "name": "python3"
  },
  "language_info": {
   "codemirror_mode": {
    "name": "ipython",
    "version": 3
   },
   "file_extension": ".py",
   "mimetype": "text/x-python",
   "name": "python",
   "nbconvert_exporter": "python",
   "pygments_lexer": "ipython3",
   "version": "3.9.13"
  }
 },
 "nbformat": 4,
 "nbformat_minor": 5
}
