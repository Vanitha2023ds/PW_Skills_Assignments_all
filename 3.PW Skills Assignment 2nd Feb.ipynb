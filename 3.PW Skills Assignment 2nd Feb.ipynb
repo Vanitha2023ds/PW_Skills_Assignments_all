{
 "cells": [
  {
   "cell_type": "raw",
   "id": "0d4d9f68",
   "metadata": {},
   "source": [
    "1.What are the characteristics of the tuples? Is tuple Immutable?\n"
   ]
  },
  {
   "cell_type": "raw",
   "id": "646b7e99",
   "metadata": {},
   "source": [
    "Answer : Tuples are a data type that belongs to the sequence data type category. They're similar to lists in Python, but they have the property of being immutable. We can't change the elements of a tuple, but we can execute a variety of actions on them such as count, index, type, etc"
   ]
  },
  {
   "cell_type": "raw",
   "id": "ef3046ba",
   "metadata": {},
   "source": [
    "2.What are the two tuple methods in python? Give an example of each method. Give a reason why tuples have only two in-built methods as compared to lists.\n"
   ]
  },
  {
   "cell_type": "raw",
   "id": "ece5b49f",
   "metadata": {},
   "source": [
    "Python Tuple Methods.\n",
    "Method\tDescription\n",
    "count()\tReturns the number of times a specified value occurs in a tuple\n",
    "index()\tSearches the tuple for a specified value and returns the position of where it was found"
   ]
  },
  {
   "cell_type": "code",
   "execution_count": 4,
   "id": "1af8fd83",
   "metadata": {},
   "outputs": [
    {
     "data": {
      "text/plain": [
       "2"
      ]
     },
     "execution_count": 4,
     "metadata": {},
     "output_type": "execute_result"
    }
   ],
   "source": [
    "A = (1,2,3,4,5)\n",
    "A.index(3)"
   ]
  },
  {
   "cell_type": "code",
   "execution_count": 2,
   "id": "617718a9",
   "metadata": {},
   "outputs": [
    {
     "data": {
      "text/plain": [
       "1"
      ]
     },
     "execution_count": 2,
     "metadata": {},
     "output_type": "execute_result"
    }
   ],
   "source": [
    "A = (1,2,3,4,5)\n",
    "A.count(5)"
   ]
  },
  {
   "cell_type": "raw",
   "id": "db09ab87",
   "metadata": {},
   "source": [
    "3.Which collection datatypes in python do not allow duplicate items? Write a code using a set to remove?\n"
   ]
  },
  {
   "cell_type": "raw",
   "id": "8ff05fb8",
   "metadata": {},
   "source": [
    "Answer :\n",
    "    Set is a collection which is unordered and unindexed. No duplicate members."
   ]
  },
  {
   "cell_type": "code",
   "execution_count": 11,
   "id": "67843277",
   "metadata": {},
   "outputs": [
    {
     "name": "stdout",
     "output_type": "stream",
     "text": [
      "{1, 2, 3, 4}\n"
     ]
    }
   ],
   "source": [
    "List = {1, 1, 1, 2, 1, 3, 1, 4, 2, 1, 2, 2, 2, 3, 2, 4, 3, 1, 3, 2, 3, 3, 3, 4, 4, 1, 4,2, 4,3,4,4}\n",
    "print(List)"
   ]
  },
  {
   "cell_type": "raw",
   "id": "6cc1cc32",
   "metadata": {},
   "source": [
    "4.Explain the difference between the union() and update() methods for a set. Give an example of each method?"
   ]
  },
  {
   "cell_type": "raw",
   "id": "dd8190d3",
   "metadata": {},
   "source": [
    "Answer : update() adds all missing elements to the set on which it is called whereas set. union() creates a new set. Consequently, the return value of set. update() is None (with side effects) and the return value of set."
   ]
  },
  {
   "cell_type": "code",
   "execution_count": 12,
   "id": "d90bc225",
   "metadata": {},
   "outputs": [
    {
     "name": "stdout",
     "output_type": "stream",
     "text": [
      "{'E', 'B', 'D', 'F', 'C', 'A'}\n"
     ]
    }
   ],
   "source": [
    "# Union Method\n",
    "\n",
    "city = {'A','B','C','D'}\n",
    "city1 = {'A','E','C','F'}\n",
    "city2 = city.union(city1)\n",
    "print(city2)"
   ]
  },
  {
   "cell_type": "code",
   "execution_count": 14,
   "id": "4b2f2748",
   "metadata": {},
   "outputs": [
    {
     "name": "stdout",
     "output_type": "stream",
     "text": [
      "{'E', 'B', 'D', 'F', 'C', 'A'}\n"
     ]
    }
   ],
   "source": [
    "# Update Method\n",
    "\n",
    "city = {'A','B','C','D'}\n",
    "city.update({'A','E','C','F'})\n",
    "print(city)"
   ]
  },
  {
   "cell_type": "raw",
   "id": "8393ca5d",
   "metadata": {},
   "source": [
    "5.What is a dictionary? Give an example. Also, state whether a dictionary is ordered or unordered?\n"
   ]
  },
  {
   "cell_type": "raw",
   "id": "70a2b479",
   "metadata": {},
   "source": [
    "Answer :\n",
    "Dictionaries are used to store data values in key:value pairs. A dictionary is a collection which is ordered*, changeable and do not allow duplicates. As of Python version 3.7, dictionaries are ordered. In Python 3.6 and earlier, dictionaries are unordered.\n",
    "\n",
    "The dictionary is an unordered collection that contains key:value pairs separated by commas inside curly brackets. Dictionaries are optimized to retrieve values when the key is known. The following declares a dictionary object."
   ]
  },
  {
   "cell_type": "code",
   "execution_count": 19,
   "id": "1efcdf9b",
   "metadata": {},
   "outputs": [
    {
     "data": {
      "text/html": [
       "<div>\n",
       "<style scoped>\n",
       "    .dataframe tbody tr th:only-of-type {\n",
       "        vertical-align: middle;\n",
       "    }\n",
       "\n",
       "    .dataframe tbody tr th {\n",
       "        vertical-align: top;\n",
       "    }\n",
       "\n",
       "    .dataframe thead th {\n",
       "        text-align: right;\n",
       "    }\n",
       "</style>\n",
       "<table border=\"1\" class=\"dataframe\">\n",
       "  <thead>\n",
       "    <tr style=\"text-align: right;\">\n",
       "      <th></th>\n",
       "      <th>Name</th>\n",
       "      <th>Age</th>\n",
       "      <th>Level</th>\n",
       "    </tr>\n",
       "  </thead>\n",
       "  <tbody>\n",
       "    <tr>\n",
       "      <th>0</th>\n",
       "      <td>A</td>\n",
       "      <td>1</td>\n",
       "      <td>4</td>\n",
       "    </tr>\n",
       "    <tr>\n",
       "      <th>1</th>\n",
       "      <td>B</td>\n",
       "      <td>2</td>\n",
       "      <td>5</td>\n",
       "    </tr>\n",
       "    <tr>\n",
       "      <th>2</th>\n",
       "      <td>C</td>\n",
       "      <td>3</td>\n",
       "      <td>6</td>\n",
       "    </tr>\n",
       "  </tbody>\n",
       "</table>\n",
       "</div>"
      ],
      "text/plain": [
       "  Name  Age  Level\n",
       "0    A    1      4\n",
       "1    B    2      5\n",
       "2    C    3      6"
      ]
     },
     "metadata": {},
     "output_type": "display_data"
    }
   ],
   "source": [
    "# Give an example\n",
    "dict1 = {'Name':['A','B','C'],\n",
    "        'Age':[1,2,3],\n",
    "        'Level':[4,5,6]}\n",
    "\n",
    "df = pd.DataFrame(dict1)\n",
    "\n",
    "display(df)"
   ]
  },
  {
   "cell_type": "raw",
   "id": "1085fd9e",
   "metadata": {},
   "source": [
    "6. Question nested dictionary?"
   ]
  },
  {
   "cell_type": "code",
   "execution_count": 20,
   "id": "89326a92",
   "metadata": {},
   "outputs": [
    {
     "data": {
      "text/html": [
       "<div>\n",
       "<style scoped>\n",
       "    .dataframe tbody tr th:only-of-type {\n",
       "        vertical-align: middle;\n",
       "    }\n",
       "\n",
       "    .dataframe tbody tr th {\n",
       "        vertical-align: top;\n",
       "    }\n",
       "\n",
       "    .dataframe thead th {\n",
       "        text-align: right;\n",
       "    }\n",
       "</style>\n",
       "<table border=\"1\" class=\"dataframe\">\n",
       "  <thead>\n",
       "    <tr style=\"text-align: right;\">\n",
       "      <th></th>\n",
       "      <th>Name</th>\n",
       "      <th>Age</th>\n",
       "      <th>Level</th>\n",
       "    </tr>\n",
       "  </thead>\n",
       "  <tbody>\n",
       "    <tr>\n",
       "      <th>0</th>\n",
       "      <td>A</td>\n",
       "      <td>1</td>\n",
       "      <td>4</td>\n",
       "    </tr>\n",
       "    <tr>\n",
       "      <th>1</th>\n",
       "      <td>B</td>\n",
       "      <td>2</td>\n",
       "      <td>5</td>\n",
       "    </tr>\n",
       "    <tr>\n",
       "      <th>2</th>\n",
       "      <td>C</td>\n",
       "      <td>3</td>\n",
       "      <td>6</td>\n",
       "    </tr>\n",
       "  </tbody>\n",
       "</table>\n",
       "</div>"
      ],
      "text/plain": [
       "  Name  Age  Level\n",
       "0    A    1      4\n",
       "1    B    2      5\n",
       "2    C    3      6"
      ]
     },
     "metadata": {},
     "output_type": "display_data"
    }
   ],
   "source": [
    "# Give an example\n",
    "dict1 = {'Name':['A','B','C'],\n",
    "        'Age':[1,2,3],\n",
    "        'Level':[4,5,6]}\n",
    "\n",
    "df = pd.DataFrame(dict1)\n",
    "\n",
    "display(df)"
   ]
  },
  {
   "cell_type": "raw",
   "id": "5fcded41",
   "metadata": {},
   "source": [
    "7."
   ]
  },
  {
   "cell_type": "code",
   "execution_count": 23,
   "id": "bee634ad",
   "metadata": {},
   "outputs": [
    {
     "name": "stdout",
     "output_type": "stream",
     "text": [
      "{'k1': [1, 2, {'k2': ['this is easy', {'Machine Learning': [1, 2, ['python']]}]}]}\n",
      "\n"
     ]
    },
    {
     "data": {
      "text/plain": [
       "'python'"
      ]
     },
     "execution_count": 23,
     "metadata": {},
     "output_type": "execute_result"
    }
   ],
   "source": [
    "d_irritating = {'k1':[1,2,{'k2':['this is easy',{'Machine Learning':[1,2,['python']]}]}]}\n",
    "print(d_irritating)\n",
    "print()\n",
    "d_irritating['k1'][-1]['k2'][-1]['Machine Learning'][-1][-1]"
   ]
  },
  {
   "cell_type": "raw",
   "id": "95a71e65",
   "metadata": {},
   "source": []
  },
  {
   "cell_type": "code",
   "execution_count": null,
   "id": "5e36d89b",
   "metadata": {},
   "outputs": [],
   "source": []
  }
 ],
 "metadata": {
  "kernelspec": {
   "display_name": "Python 3 (ipykernel)",
   "language": "python",
   "name": "python3"
  },
  "language_info": {
   "codemirror_mode": {
    "name": "ipython",
    "version": 3
   },
   "file_extension": ".py",
   "mimetype": "text/x-python",
   "name": "python",
   "nbconvert_exporter": "python",
   "pygments_lexer": "ipython3",
   "version": "3.9.13"
  }
 },
 "nbformat": 4,
 "nbformat_minor": 5
}
