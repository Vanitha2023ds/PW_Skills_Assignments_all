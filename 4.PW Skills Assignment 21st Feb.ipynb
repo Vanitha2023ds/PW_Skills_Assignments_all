{
 "cells": [
  {
   "cell_type": "raw",
   "id": "8583ed36",
   "metadata": {},
   "source": [
    "1.What is Web Scraping? Why is it Used? Give three areas where Web Scraping is used to get data?\n"
   ]
  },
  {
   "cell_type": "raw",
   "id": "4e30b60f",
   "metadata": {},
   "source": [
    "Answer :\n",
    "    \n",
    "    Web scraping is the process of collecting structured web data in an automated manner. It's also widely known as web data extraction or web data scraping. Some of the main use cases of web scraping include price monitoring, price intelligence, news monitoring, lead generation, and market research among many others\n",
    "    \n",
    "In the context of data science, web scraping is a way of collecting data from a website by means of a script that reads the content from the pages on the website and then stores the data in a database or spreadsheet. This is a fast and easy way to gather data from a website, but it comes at a price.\n",
    "\n",
    "Applications of web scraping tools\n",
    "Monitoring e-commerce prices. Finding opportunities for investment. Analyzing social media web data. Applying machine learning techniques."
   ]
  },
  {
   "cell_type": "raw",
   "id": "a8c4df25",
   "metadata": {},
   "source": [
    "2. What are the different methods used for Web Scraping?\n"
   ]
  },
  {
   "cell_type": "raw",
   "id": "7a0a0c6c",
   "metadata": {},
   "source": [
    "Answer :\n",
    "    \n",
    "Data Scraping Techniques:\n",
    "HTML Parsing. HTML parsing involves the use of JavaScript to target a linear or nested HTML page.\n",
    "DOM Parsing.\n",
    "Vertical Aggregation.\n",
    "XPath.\n",
    "Google Sheets.\n",
    "Rate Limit User Requests.\n",
    "Mitigate High-Volume Requesters with CAPTCHAs.\n",
    "Regularly Modify HTML Markup."
   ]
  },
  {
   "cell_type": "raw",
   "id": "41becfab",
   "metadata": {},
   "source": [
    "3.What is Beautiful Soup? Why is it used?"
   ]
  },
  {
   "cell_type": "raw",
   "id": "e0f58757",
   "metadata": {},
   "source": [
    "Answer :\n",
    "    \n",
    "Beautiful Soup is a python package and as the name suggests, parses the unwanted data and helps to organize and format the messy web data by fixing bad HTML and present to us in an easily-traversible XML structures. In short, Beautiful Soup is a python package which allows us to pull data out of HTML and XML documents.\n",
    "\n",
    "Beautiful Soup is a Python package for parsing HTML and XML documents (including having malformed markup, i.e. non-closed tags, so named after tag soup). It creates a parse tree for parsed pages that can be used to extract data from HTML, which is useful for web scraping."
   ]
  },
  {
   "cell_type": "raw",
   "id": "064ea243",
   "metadata": {},
   "source": [
    "4.Why is flask used in this Web Scraping project?"
   ]
  },
  {
   "cell_type": "raw",
   "id": "4e52c044",
   "metadata": {},
   "source": [
    "Answer :\n",
    "    \n",
    "Flask is a lightweight framework to build websites. We'll use this to parse our collected data and display it as HTML in a new HTML file. The requests module allows us to send http requests to the website we want to scrape. The first line imports the Flask class and the render_template method from the flask library."
   ]
  },
  {
   "cell_type": "raw",
   "id": "c04886d2",
   "metadata": {},
   "source": [
    "5.Write the names of AWS services used in this project. Also, explain the use of each service?"
   ]
  },
  {
   "cell_type": "raw",
   "id": "866137c1",
   "metadata": {},
   "source": [
    "Answer :\n",
    "    Boto3 is the AWS SDK for Python. You can use it to create, configure, and manage AWS services such as Amazon Elastic Compute Cloud (EC2), Amazon Simple Storage Service (S3), and Amazon DynamoDB. Boto3 also provides two types of APIs: low-level APIs and Resource APIs for developers"
   ]
  },
  {
   "cell_type": "code",
   "execution_count": null,
   "id": "8bbf11a9",
   "metadata": {},
   "outputs": [],
   "source": []
  }
 ],
 "metadata": {
  "kernelspec": {
   "display_name": "Python 3 (ipykernel)",
   "language": "python",
   "name": "python3"
  },
  "language_info": {
   "codemirror_mode": {
    "name": "ipython",
    "version": 3
   },
   "file_extension": ".py",
   "mimetype": "text/x-python",
   "name": "python",
   "nbconvert_exporter": "python",
   "pygments_lexer": "ipython3",
   "version": "3.9.13"
  }
 },
 "nbformat": 4,
 "nbformat_minor": 5
}
