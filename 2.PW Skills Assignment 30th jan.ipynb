{
 "cells": [
  {
   "cell_type": "raw",
   "id": "384b4706",
   "metadata": {},
   "source": [
    "1.Write a program to accept Percentage from the user and display the grade according to the following criteria:\n",
    "\n",
    " Marks                       Grade\n",
    "\n",
    "> 90%                          A\n",
    "\n",
    ">80% and <90%                  B\n",
    "\n",
    ">70% and <80%                  C\n",
    "\n",
    ">60% and <70%                  D\n",
    "\n",
    "Below 60%                      E\n"
   ]
  },
  {
   "cell_type": "code",
   "execution_count": 1,
   "id": "419b2f13",
   "metadata": {},
   "outputs": [
    {
     "name": "stdout",
     "output_type": "stream",
     "text": [
      "Enter your Marks:95\n",
      "A\n"
     ]
    }
   ],
   "source": [
    "# Percentage of the marks obtained by the student is input to the program.\n",
    "\n",
    "Marks = int(input('Enter your Marks:'))\n",
    "if(Marks >90):\n",
    "    print('A')\n",
    "elif(Marks >80 and Marks <=90):\n",
    "    print('B')\n",
    "elif(Marks >70 and Marks <=80):\n",
    "    print('C')  \n",
    "elif(Marks >=60 and Marks <=70):\n",
    "    print('D')  \n",
    "else:\n",
    "    print('E')"
   ]
  },
  {
   "cell_type": "raw",
   "id": "8625faa3",
   "metadata": {},
   "source": [
    "2.Write a program to accept the cost price of a bike and display the road tax to be paid according to the following criter?\n"
   ]
  },
  {
   "cell_type": "code",
   "execution_count": 3,
   "id": "54e60803",
   "metadata": {},
   "outputs": [
    {
     "name": "stdout",
     "output_type": "stream",
     "text": [
      "Enter the cost of the bike: 80000\n",
      "Tax value=10% 8000.0\n"
     ]
    }
   ],
   "source": [
    "x=0\n",
    "\n",
    "cost_price=int(input(\"Enter the cost of the bike: \"))\n",
    "\n",
    "if cost_price>100000:\n",
    "\n",
    "   x=15/100*c\n",
    "\n",
    "   print(\"Tax value=15%\",x)\n",
    "\n",
    "elif cost_price>50000 and cost_price<=100000:\n",
    "\n",
    "   x=10/100*cost_price\n",
    "\n",
    "   print(\"Tax value=10%\",x)\n",
    "\n",
    "elif cost_price<=50000:\n",
    "\n",
    "     x=5/100*cost_price\n",
    "\n",
    "     print(\"Tax value=5%\",x)\n",
    "\n",
    "else:\n",
    "\n",
    "   print(\"There is no tax\")"
   ]
  },
  {
   "cell_type": "raw",
   "id": "0b447ae2",
   "metadata": {},
   "source": [
    "3.Accept any city from the user and display monument of that city?"
   ]
  },
  {
   "cell_type": "code",
   "execution_count": 4,
   "id": "11021d9a",
   "metadata": {},
   "outputs": [
    {
     "name": "stdout",
     "output_type": "stream",
     "text": [
      "Enter a cityAGRA\n",
      "Taj Mahal\n"
     ]
    }
   ],
   "source": [
    "city = input(\"Enter a city\")\n",
    "\n",
    "if city.upper() == \"DELHI\":\n",
    "\n",
    "   print(\"Red Fort\")\n",
    "\n",
    "elif city.upper() == \"AGRA\":\n",
    "\n",
    "   print(\"Taj Mahal\")\n",
    "\n",
    "elif city.upper() == \"JAIPUR\":\n",
    "\n",
    "   print(\"Jal Mahal\")\n",
    "\n",
    "else:\n",
    "\n",
    "   print(\"Enter a valid city\")"
   ]
  },
  {
   "cell_type": "raw",
   "id": "9d7feca7",
   "metadata": {},
   "source": [
    "4.check how many times a given number can be divided by 3 before it is less than or equal to 10 in Python?"
   ]
  },
  {
   "cell_type": "code",
   "execution_count": 10,
   "id": "ed9431f3",
   "metadata": {},
   "outputs": [
    {
     "name": "stdout",
     "output_type": "stream",
     "text": [
      "3\n"
     ]
    }
   ],
   "source": [
    "i = 10\n",
    "result = 0\n",
    "while i > 1:\n",
    "    i = i / 3\n",
    "    result = result + 1\n",
    "print (result)\n"
   ]
  },
  {
   "cell_type": "code",
   "execution_count": 11,
   "id": "fa1e045c",
   "metadata": {},
   "outputs": [
    {
     "name": "stdout",
     "output_type": "stream",
     "text": [
      "[5, 9, 5, 7, 5, 7, 10, 10, 10, 9]\n",
      "\n",
      "[9, 9]\n",
      "\n",
      "[5, 5, 7, 5, 7, 10, 10, 10]\n"
     ]
    }
   ],
   "source": [
    "import random\n",
    "\n",
    "numberList = [] # create an empty list, to add 100 random ints to\n",
    "for i in range(10):\n",
    "    numberList.append(random.randint(1,10))\n",
    "print (numberList)\n",
    "\n",
    "EvenList = [] \n",
    "OddList = []\n",
    "\n",
    "print()\n",
    "\n",
    "for i in numberList:   \n",
    "    if (i%3) == 0:     # % will give remainder of the division == check for if the number is even\n",
    "        EvenList.append(i)# Evenlist append with 'i' now 'i' is numberlist evenlist program will take even number from numberlist\n",
    "    else:\n",
    "        OddList.append(i)\n",
    "        \n",
    "print (EvenList)\n",
    "print ()\n",
    "print (OddList) # 3 list we got first is random number, 2nd is random even list,3rd random oddlist"
   ]
  },
  {
   "cell_type": "raw",
   "id": "9ccbfd10",
   "metadata": {},
   "source": [
    "5.why and when to use while loop in Python give a detailed description with example?"
   ]
  },
  {
   "cell_type": "code",
   "execution_count": 12,
   "id": "23bc4f49",
   "metadata": {},
   "outputs": [
    {
     "name": "stdout",
     "output_type": "stream",
     "text": [
      "enter a number121\n",
      "\n",
      "The number is palindrome\n"
     ]
    }
   ],
   "source": [
    "# Python while loop is used to run a block code until a certain condition is met. Here, A while loop evaluates the condition.\n",
    "# If the condition evaluates to True , the code inside the while loop is executed.\n",
    "\n",
    "number = int(input(\"enter a number\"))\n",
    "print()\n",
    "temp = number\n",
    "reverse_num=0\n",
    "while(number>0):\n",
    "    digit=number%10\n",
    "    reverse_num=reverse_num*10+digit\n",
    "    number=number//10\n",
    "if(temp==reverse_num):\n",
    "    print(\"The number is palindrome\")\n",
    "else:\n",
    "    print(\"Not a palindrome\")"
   ]
  },
  {
   "cell_type": "code",
   "execution_count": 13,
   "id": "d9e2a712",
   "metadata": {},
   "outputs": [
    {
     "name": "stdout",
     "output_type": "stream",
     "text": [
      "1 \n",
      "1 2 \n",
      "1 2 3 \n",
      "1 2 3 4 \n",
      "1 2 3 4 5 \n"
     ]
    }
   ],
   "source": [
    "# Question 6\n",
    "i=1\n",
    "while i<=5:\n",
    "    j=1\n",
    "    while j<=i:\n",
    "        print(j,end=\" \")\n",
    "        j=j+1\n",
    "    print(\"\")\n",
    "    i=i+1"
   ]
  },
  {
   "cell_type": "code",
   "execution_count": 14,
   "id": "965bf3cd",
   "metadata": {},
   "outputs": [
    {
     "name": "stdout",
     "output_type": "stream",
     "text": [
      "Pattern 1\n",
      "    *\n",
      "   ***\n",
      "  *****\n",
      " *******\n",
      "*********\n"
     ]
    }
   ],
   "source": [
    "n = 9\n",
    "print(\"Pattern 1\")\n",
    "for a1 in range(1, (n+1)//2 + 1): #from row 1 to 5\n",
    "    for a2 in range((n+1)//2 - a1):\n",
    "        print(\" \", end = \"\")\n",
    "    for a3 in range((a1*2)-1):\n",
    "        print(\"*\", end = \"\")\n",
    "    print()"
   ]
  },
  {
   "cell_type": "code",
   "execution_count": 15,
   "id": "2f0a4ca1",
   "metadata": {},
   "outputs": [
    {
     "name": "stdout",
     "output_type": "stream",
     "text": [
      " *******\n",
      "  *****\n",
      "   ***\n",
      "    *\n"
     ]
    }
   ],
   "source": [
    "for a1 in range((n+1)//2 + 1, n + 1): #from row 6 to 9\n",
    "    for a2 in range(a1 - (n+1)//2):\n",
    "        print(\" \", end = \"\")\n",
    "    for a3 in range((n+1 - a1)*2 - 1):\n",
    "        print(\"*\", end = \"\")\n",
    "    print()"
   ]
  },
  {
   "cell_type": "code",
   "execution_count": 16,
   "id": "d6e1949e",
   "metadata": {},
   "outputs": [
    {
     "name": "stdout",
     "output_type": "stream",
     "text": [
      "5 4 3 2 1 \n",
      "  4 3 2 1 \n",
      "    3 2 1 \n",
      "      2 1 \n",
      "        1 \n"
     ]
    }
   ],
   "source": [
    "n = 5\n",
    "for i in range(n, 0, -1):\n",
    "    for j in range(n - i):\n",
    "        print(\"  \", end=\"\")\n",
    "    for k in range(i, 0, -1):\n",
    "        print(k, end=\" \")\n",
    "    print(\"\")"
   ]
  },
  {
   "cell_type": "code",
   "execution_count": 17,
   "id": "15caedc8",
   "metadata": {},
   "outputs": [
    {
     "name": "stdout",
     "output_type": "stream",
     "text": [
      "10\n",
      "9\n",
      "8\n",
      "7\n",
      "6\n",
      "5\n",
      "4\n",
      "3\n",
      "2\n",
      "1\n"
     ]
    }
   ],
   "source": [
    "# Question 7\n",
    "\n",
    "i = 10\n",
    "while i > 0:\n",
    "    print(i)\n",
    "    i = i - 1"
   ]
  },
  {
   "cell_type": "code",
   "execution_count": 20,
   "id": "5e2034a5",
   "metadata": {},
   "outputs": [
    {
     "name": "stdout",
     "output_type": "stream",
     "text": [
      "1\n",
      "2\n",
      "3\n",
      "4\n",
      "5\n",
      "6\n",
      "7\n",
      "8\n",
      "9\n",
      "10\n"
     ]
    }
   ],
   "source": [
    "# Question 8\n",
    "\n",
    "i = 1\n",
    "while (i <= 10):\n",
    "    print(i)\n",
    "    i += 1"
   ]
  },
  {
   "cell_type": "code",
   "execution_count": null,
   "id": "c29f7490",
   "metadata": {},
   "outputs": [],
   "source": []
  }
 ],
 "metadata": {
  "kernelspec": {
   "display_name": "Python 3 (ipykernel)",
   "language": "python",
   "name": "python3"
  },
  "language_info": {
   "codemirror_mode": {
    "name": "ipython",
    "version": 3
   },
   "file_extension": ".py",
   "mimetype": "text/x-python",
   "name": "python",
   "nbconvert_exporter": "python",
   "pygments_lexer": "ipython3",
   "version": "3.9.13"
  }
 },
 "nbformat": 4,
 "nbformat_minor": 5
}
