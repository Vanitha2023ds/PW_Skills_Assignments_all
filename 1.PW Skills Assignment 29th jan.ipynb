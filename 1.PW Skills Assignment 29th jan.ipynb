{
 "cells": [
  {
   "cell_type": "raw",
   "id": "2c972f06",
   "metadata": {},
   "source": [
    "1.who developed python programming language?"
   ]
  },
  {
   "cell_type": "code",
   "execution_count": null,
   "id": "cf08e919",
   "metadata": {},
   "outputs": [],
   "source": [
    "Answer : Guido van Rossum\n",
    "    "
   ]
  },
  {
   "cell_type": "raw",
   "id": "3a7f6fe2",
   "metadata": {},
   "source": [
    "2.which type of programming does Python support?"
   ]
  },
  {
   "cell_type": "raw",
   "id": "cbc625c4",
   "metadata": {},
   "source": [
    "Answer : Python support three programming paradigms: Imperative, Functional, and Object-Oriented ."
   ]
  },
  {
   "cell_type": "raw",
   "id": "6a0f56e2",
   "metadata": {},
   "source": [
    "3.is python case sensitive when dealing with identifiers?"
   ]
  },
  {
   "cell_type": "raw",
   "id": "1a872a34",
   "metadata": {},
   "source": [
    "Answer : Yes, Python is a case-sensitive language. That is, it considers uppercase and lowercase characters differently. The property is useful while naming identifiers to make the code more readable and maintainable."
   ]
  },
  {
   "cell_type": "raw",
   "id": "f2777397",
   "metadata": {},
   "source": [
    "4.what is the correct extension of the python file?"
   ]
  },
  {
   "cell_type": "raw",
   "id": "e833dbdf",
   "metadata": {},
   "source": [
    "Answer : .py\n",
    "Python is a widely used programming or coding language used for different purposes. The extensions for Python files are - . py,"
   ]
  },
  {
   "cell_type": "raw",
   "id": "11a88a24",
   "metadata": {},
   "source": [
    "5.is python code complied or interpreted?"
   ]
  },
  {
   "cell_type": "raw",
   "id": "7972ece2",
   "metadata": {},
   "source": [
    "Answer :interpreted language\n",
    "Python is an interpreted language, which means the source code of a Python program is converted into bytecode that is then executed by the Python virtual machine. Python is different from major compiled languages, such as C and C + +, as Python code is not required to be built and linked like code for these languages."
   ]
  },
  {
   "cell_type": "raw",
   "id": "5284aa25",
   "metadata": {},
   "source": [
    "6. name a few blocks of code used to define in Python language?"
   ]
  },
  {
   "cell_type": "raw",
   "id": "84fcf5f0",
   "metadata": {},
   "source": [
    "Answer : The following are blocks: a module, a function body, and a class definition."
   ]
  },
  {
   "cell_type": "raw",
   "id": "ccb1edfa",
   "metadata": {},
   "source": [
    "7.state a character used to give single line comments in Python?"
   ]
  },
  {
   "cell_type": "raw",
   "id": "78c779b2",
   "metadata": {},
   "source": [
    "Answer : Comments in Python are identified with a hash symbol, #, and extend to the end of the line. Hash characters in a string are not considered comments, however. There are three ways to write a comment - as a separate line, beside the corresponding statement of code, or as a multi-line comment block."
   ]
  },
  {
   "cell_type": "raw",
   "id": "20d1fc95",
   "metadata": {},
   "source": [
    "8.mention functions which can help us to find the version of python that we are currently working on?"
   ]
  },
  {
   "cell_type": "raw",
   "id": "1bb114a1",
   "metadata": {},
   "source": [
    "Answer : Explanation: The function sys. version can help us to find the version of python that we are currently working on."
   ]
  },
  {
   "cell_type": "raw",
   "id": "8ec13f73",
   "metadata": {},
   "source": [
    "9.Python supports the creation of anonymous functions at runtime using the construct called?"
   ]
  },
  {
   "cell_type": "raw",
   "id": "c0451c9a",
   "metadata": {},
   "source": [
    "Answer : Python supports the creation of anonymous functions (i.e. functions that are not bound to a name) at runtime, using a construct called lambda."
   ]
  },
  {
   "cell_type": "raw",
   "id": "d8650ffa",
   "metadata": {},
   "source": [
    "10.what does pip stand for python?"
   ]
  },
  {
   "cell_type": "raw",
   "id": "949a16bf",
   "metadata": {},
   "source": [
    "Answer :Developed in 2008, pip (an acronym of “pip Install Packages”) is today the standard tool for installing Python packages and their dependencies in a secure manner. Most recent distributions of Python come with pip preinstalled. Python 2.7."
   ]
  },
  {
   "cell_type": "raw",
   "id": "c510ae9f",
   "metadata": {},
   "source": [
    "11.mention a few built in functions in Python?"
   ]
  },
  {
   "cell_type": "raw",
   "id": "3f837d61",
   "metadata": {},
   "source": [
    "Answer :Python has a set of built-in functions.\n",
    "\n",
    "Function\tDescription\n",
    "abs()\tReturns the absolute value of a number\n",
    "all()\tReturns True if all items in an iterable object are true\n",
    "any()\tReturns True if any item in an iterable object is true\n",
    "ascii()\tReturns a readable version of an object. Replaces none-ascii characters with escape character\n",
    "bin()\tReturns the binary version of a number\n",
    "bool()\tReturns the boolean value of the specified object\n",
    "bytearray()\tReturns an array of bytes\n",
    "bytes()\tReturns a bytes object\n",
    "callable()\tReturns True if the specified object is callable, otherwise False\n",
    "chr()\tReturns a character from the specified Unicode code.\n",
    "classmethod()\tConverts a method into a class method\n",
    "compile()\tReturns the specified source as an object, ready to be executed\n",
    "complex()\tReturns a complex number\n",
    "delattr()\tDeletes the specified attribute (property or method) from the specified object\n",
    "dict()\tReturns a dictionary (Array)\n",
    "dir()\tReturns a list of the specified object's properties and methods\n",
    "divmod()\tReturns the quotient and the remainder when argument1 is divided by argument2\n",
    "enumerate()\tTakes a collection (e.g. a tuple) and returns it as an enumerate object\n",
    "eval()\tEvaluates and executes an expression\n",
    "exec()\tExecutes the specified code (or object)\n",
    "filter()\tUse a filter function to exclude items in an iterable object\n",
    "float()\tReturns a floating point number\n",
    "format()\tFormats a specified value\n",
    "frozenset()\tReturns a frozenset object\n",
    "getattr()\tReturns the value of the specified attribute (property or method)\n",
    "globals()\tReturns the current global symbol table as a dictionary\n",
    "hasattr()\tReturns True if the specified object has the specified attribute (property/method)\n",
    "hash()\tReturns the hash value of a specified object\n",
    "help()\tExecutes the built-in help system\n",
    "hex()\tConverts a number into a hexadecimal value\n",
    "id()\tReturns the id of an object\n",
    "input()\tAllowing user input\n",
    "int()\tReturns an integer number\n",
    "isinstance()\tReturns True if a specified object is an instance of a specified object\n",
    "issubclass()\tReturns True if a specified class is a subclass of a specified object\n",
    "iter()\tReturns an iterator object\n",
    "len()\tReturns the length of an object\n",
    "list()\tReturns a list\n",
    "locals()\tReturns an updated dictionary of the current local symbol table\n",
    "map()\tReturns the specified iterator with the specified function applied to each item\n",
    "max()\tReturns the largest item in an iterable\n",
    "memoryview()\tReturns a memory view object\n",
    "min()\tReturns the smallest item in an iterable\n",
    "next()\tReturns the next item in an iterable\n",
    "object()\tReturns a new object\n",
    "oct()\tConverts a number into an octal\n",
    "open()\tOpens a file and returns a file object\n",
    "ord()\tConvert an integer representing the Unicode of the specified character\n",
    "pow()\tReturns the value of x to the power of y\n",
    "print()\tPrints to the standard output device\n",
    "property()\tGets, sets, deletes a property\n",
    "range()\tReturns a sequence of numbers, starting from 0 and increments by 1 (by default)\n",
    "repr()\tReturns a readable version of an object\n",
    "reversed()\tReturns a reversed iterator\n",
    "round()\tRounds a numbers\n",
    "set()\tReturns a new set object\n",
    "setattr()\tSets an attribute (property/method) of an object\n",
    "slice()\tReturns a slice object\n",
    "sorted()\tReturns a sorted list\n",
    "staticmethod()\tConverts a method into a static method\n",
    "str()\tReturns a string object\n",
    "sum()\tSums the items of an iterator\n",
    "super()\tReturns an object that represents the parent class\n",
    "tuple()\tReturns a tuple\n",
    "type()\tReturns the type of an object\n",
    "vars()\tReturns the __dict__ property of an object\n",
    "zip()\tReturns an iterator, from two or more iterators"
   ]
  },
  {
   "cell_type": "raw",
   "id": "b109894a",
   "metadata": {},
   "source": [
    "12.what is the maximum possible length of an identifier in Python?"
   ]
  },
  {
   "cell_type": "raw",
   "id": "2c692814",
   "metadata": {},
   "source": [
    "Answer : 79 characters\n",
    "Answer: An identifier can have a maximum length of 79 characters in Python. Python is one of the most popular programming languages. Guido van Rossum created it, and it was released in 1991."
   ]
  },
  {
   "cell_type": "raw",
   "id": "b02f97ea",
   "metadata": {},
   "source": [
    "13.what are the benefits of using python?"
   ]
  },
  {
   "cell_type": "markdown",
   "id": "3973cc41",
   "metadata": {},
   "source": [
    "Answer :\n",
    "\n",
    "-Earning Potential. Python is the second-highest paid computer language, according to Indeed.\n",
    "\n",
    "-Ease of Comprehension. One of the top benefits of Python is that it is easy to learn and fun to use.\n",
    "\n",
    "-Flexibility. Not only is Python easy to learn, but also, it's flexible.\n",
    "\n",
    "-Used in Many Industries."
   ]
  },
  {
   "cell_type": "raw",
   "id": "06de62c2",
   "metadata": {},
   "source": [
    "14.how is memory managed in Python?"
   ]
  },
  {
   "cell_type": "raw",
   "id": "50aec117",
   "metadata": {},
   "source": [
    "Answer :Memory management in Python involves a private heap containing all Python objects and data structures. The management of this private heap is ensured internally by the Python memory manager."
   ]
  },
  {
   "cell_type": "raw",
   "id": "380230d5",
   "metadata": {},
   "source": [
    "15.how to install python on windows and set path variable?"
   ]
  },
  {
   "cell_type": "raw",
   "id": "31315504",
   "metadata": {},
   "source": [
    "Answer :The complete path of python.exe can be added by:\n",
    "Right-clicking This PC and going to Properties.\n",
    "Clicking on the Advanced system settings in the menu on the left.\n",
    "Clicking on the Environment Variables button o​n the bottom right.\n",
    "In the System variables section, selecting the Path variable and clicking on Edit."
   ]
  },
  {
   "cell_type": "raw",
   "id": "50ebf375",
   "metadata": {},
   "source": [
    "16.is indentation required in Python?"
   ]
  },
  {
   "cell_type": "raw",
   "id": "6cbebe0b",
   "metadata": {},
   "source": [
    "Answer :Indentation is important to Python because it's how you determine scope. Scope is how Python knows what code belongs to what part of the program."
   ]
  },
  {
   "cell_type": "code",
   "execution_count": null,
   "id": "ee97b533",
   "metadata": {},
   "outputs": [],
   "source": []
  }
 ],
 "metadata": {
  "kernelspec": {
   "display_name": "Python 3 (ipykernel)",
   "language": "python",
   "name": "python3"
  },
  "language_info": {
   "codemirror_mode": {
    "name": "ipython",
    "version": 3
   },
   "file_extension": ".py",
   "mimetype": "text/x-python",
   "name": "python",
   "nbconvert_exporter": "python",
   "pygments_lexer": "ipython3",
   "version": "3.9.13"
  }
 },
 "nbformat": 4,
 "nbformat_minor": 5
}
